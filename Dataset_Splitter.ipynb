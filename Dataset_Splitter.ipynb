{
  "nbformat": 4,
  "nbformat_minor": 0,
  "metadata": {
    "colab": {
      "name": "Dataset Splitter.ipynb",
      "provenance": [],
      "collapsed_sections": [],
      "authorship_tag": "ABX9TyNT7GFeB8+ZU0FKI7rtLpeL",
      "include_colab_link": true
    },
    "kernelspec": {
      "name": "python3",
      "display_name": "Python 3"
    }
  },
  "cells": [
    {
      "cell_type": "markdown",
      "metadata": {
        "id": "view-in-github",
        "colab_type": "text"
      },
      "source": [
        "<a href=\"https://colab.research.google.com/github/abhik-99/MFSGC/blob/master/Dataset_Splitter.ipynb\" target=\"_parent\"><img src=\"https://colab.research.google.com/assets/colab-badge.svg\" alt=\"Open In Colab\"/></a>"
      ]
    },
    {
      "cell_type": "code",
      "metadata": {
        "id": "zY_DVvvrOy-4",
        "colab_type": "code",
        "colab": {}
      },
      "source": [
        "!pip install -U -q PyDrive"
      ],
      "execution_count": null,
      "outputs": []
    },
    {
      "cell_type": "code",
      "metadata": {
        "id": "kOjFNyl_O9UX",
        "colab_type": "code",
        "colab": {}
      },
      "source": [
        "from pydrive.auth import GoogleAuth\n",
        "from pydrive.drive import GoogleDrive\n",
        "from google.colab import auth\n",
        "from oauth2client.client import GoogleCredentials\n",
        "from google.colab import files\n",
        "\n",
        "import json\n",
        "\n",
        "import pandas as pd\n",
        "import numpy as np"
      ],
      "execution_count": null,
      "outputs": []
    },
    {
      "cell_type": "code",
      "metadata": {
        "id": "dgO92X-XPGB-",
        "colab_type": "code",
        "colab": {}
      },
      "source": [
        "# 1. Authenticate and create the PyDrive client.\n",
        "auth.authenticate_user()\n",
        "gauth = GoogleAuth()\n",
        "gauth.credentials = GoogleCredentials.get_application_default()\n",
        "drive = GoogleDrive(gauth)\n",
        "\n",
        "#2. Get the file\n",
        "downloaded = drive.CreateFile({'id':'1rO5EEvsoRJl2VVUB3ywKUd3kNiQ24oy3'}) \n",
        "# replace the id with id of file you want to access\n",
        "# for Breast - 1enhhyA4u2ByvOjnF81WoHflVNpXtfKpu\n",
        "# For Colon - 1AUOto0GhTHW9fX52XSsf9kzYJS5ggv0G\n",
        "# For Leukemia- 1xcL-LT-E_gUqWLlqqeVJP1DVHHpiAGe_\n",
        "# For Lung - 12KcEVIEZDUEBphMYkDrOPuU-5WFs58ZS\n",
        "# for MLL - 1rS7x4x_DhrUzaBhrgKMQH3uIaLJdPgW3\n",
        "# for Prostate - 1GjcrHwaS8Gx_BeX3-SA9_Na1CiaVq4r0\n",
        "# for Rahc - 1oaOATE0D_f8MGPIMJOMXYVt0hBUWNCKV\n",
        "# for Raoa - 1d2vhPcT3I7ZFcAGOQYVLGB3Jx_vEMata\n",
        "# for Rbreast - 1Vf-h8zfVP_twMXivcJJtbWtjThShUHvn\n",
        "# for SRBCT - 1rO5EEvsoRJl2VVUB3ywKUd3kNiQ24oy3\n",
        "downloaded.GetContentFile('data.txt')"
      ],
      "execution_count": null,
      "outputs": []
    },
    {
      "cell_type": "code",
      "metadata": {
        "id": "Y-v33n5pPNHH",
        "colab_type": "code",
        "colab": {}
      },
      "source": [
        "DATASET=\"SRBCT\"\n",
        "\n",
        "dataset=pd.read_table(\"data.txt\",header=None)\n",
        "target = dataset.iloc[:,-1]\n",
        "TRAIN_SIZE = 0.7"
      ],
      "execution_count": null,
      "outputs": []
    },
    {
      "cell_type": "code",
      "metadata": {
        "id": "ZJ8qRQ6KPtSL",
        "colab_type": "code",
        "colab": {}
      },
      "source": [
        "classes = np.unique(target)\n",
        "train_set= []\n",
        "test_set = []\n",
        "for each in classes:\n",
        "  indices = np.where(target == each)[0]\n",
        "  train_size = int(TRAIN_SIZE* len(indices))\n",
        "  train_indices = np.random.choice(indices, train_size, replace = False)\n",
        "  test_indices = np.setdiff1d(indices,train_indices)\n",
        "  train_set = train_set[:] + train_indices.tolist()[:]\n",
        "  test_set = test_set[:] + test_indices.tolist()[:]\n",
        "#   print(train_indices,test_indices)\n",
        "# print(classes)\n",
        "# print(train_set,test_set)"
      ],
      "execution_count": null,
      "outputs": []
    },
    {
      "cell_type": "code",
      "metadata": {
        "id": "D-TZyfkfP3lw",
        "colab_type": "code",
        "colab": {}
      },
      "source": [
        "train_df = dataset.iloc[train_set,:].reset_index(drop = True)\n",
        "test_df = dataset.iloc[test_set,:].reset_index(drop = True)"
      ],
      "execution_count": null,
      "outputs": []
    },
    {
      "cell_type": "code",
      "metadata": {
        "id": "QKAz8BI7Rv-r",
        "colab_type": "code",
        "colab": {}
      },
      "source": [
        "print(train_df.head(), train_df.shape)\n",
        "print(test_df.head(), test_df.shape)"
      ],
      "execution_count": null,
      "outputs": []
    },
    {
      "cell_type": "code",
      "metadata": {
        "id": "RTVFos4cQO1H",
        "colab_type": "code",
        "colab": {}
      },
      "source": [
        "train_df.to_csv(\"%s_train.csv\"%(DATASET))\n",
        "test_df.to_csv(\"%s_test.csv\"%(DATASET))"
      ],
      "execution_count": null,
      "outputs": []
    },
    {
      "cell_type": "code",
      "metadata": {
        "id": "4kku_duSQwks",
        "colab_type": "code",
        "colab": {}
      },
      "source": [
        "files.download(\"%s_train.csv\"%(DATASET))\n",
        "files.download(\"%s_test.csv\"%(DATASET))"
      ],
      "execution_count": null,
      "outputs": []
    },
    {
      "cell_type": "code",
      "metadata": {
        "id": "EzkHC_JVRDp8",
        "colab_type": "code",
        "colab": {}
      },
      "source": [
        ""
      ],
      "execution_count": null,
      "outputs": []
    }
  ]
}